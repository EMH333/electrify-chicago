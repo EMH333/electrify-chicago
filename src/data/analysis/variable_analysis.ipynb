{
 "cells": [
  {
   "cell_type": "markdown",
   "metadata": {
    "vscode": {
     "languageId": "plaintext"
    }
   },
   "source": [
    "## Analysis: Look at distribution of numeric variables\n",
    "\n",
    "Conclusion: Many are highly skewed"
   ]
  },
  {
   "cell_type": "code",
   "execution_count": null,
   "metadata": {},
   "outputs": [],
   "source": [
    "columns = [ 'chicago_energy_rating',\n",
    "            'gross_floor_area',\n",
    "            'number_of_buildings',\n",
    "            'water_use',\n",
    "            'energy_star_score',\n",
    "            'electricity_use',\n",
    "            'natural_gas_use',\n",
    "            'district_steam_use',\n",
    "            'district_chilled_water_use',\n",
    "            'all_other_fuel_use',\n",
    "            'ghg_intensity']\n",
    "\n",
    "# Determine the number of rows and columns for a 3x3 layout\n",
    "n_cols = 3\n",
    "n_rows = math.ceil(len(columns) / n_cols)\n",
    "\n",
    "# Create subplots\n",
    "fig = sp.make_subplots(rows=n_rows, cols=n_cols, subplot_titles=columns)\n",
    "\n",
    "# Add a box plot for each column\n",
    "for idx, column in enumerate(columns):\n",
    "    row = (idx // n_cols) + 1\n",
    "    col = (idx % n_cols) + 1\n",
    "    fig.add_trace(go.Box(y=df[column], name=column, boxmean=True), row=row, col=col)\n",
    "\n",
    "# Update layout\n",
    "fig.update_layout(height=300 * n_rows,  # Adjust height dynamically\n",
    "                  width=900,  # Adjust width\n",
    "                  title='Box and Whisker Plots for Numeric Building Columns',\n",
    "                  showlegend=False)\n",
    "\n",
    "# Show the plot\n",
    "pio.show(fig)"
   ]
  }
 ],
 "metadata": {
  "language_info": {
   "name": "python"
  }
 },
 "nbformat": 4,
 "nbformat_minor": 2
}
